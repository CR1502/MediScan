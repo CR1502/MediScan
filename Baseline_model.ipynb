{
 "cells": [
  {
   "metadata": {
    "ExecuteTime": {
     "end_time": "2025-03-19T19:39:41.968958Z",
     "start_time": "2025-03-19T19:39:41.966389Z"
    }
   },
   "cell_type": "code",
   "source": [
    "# Import required libraries\n",
    "import pandas as pd\n",
    "import numpy as np\n",
    "import matplotlib.pyplot as plt\n",
    "import seaborn as sns\n",
    "from sklearn.model_selection import train_test_split\n",
    "from sklearn.feature_extraction.text import TfidfVectorizer\n",
    "from sklearn.preprocessing import LabelEncoder\n",
    "from sklearn.linear_model import LogisticRegression\n",
    "from sklearn.naive_bayes import MultinomialNB\n",
    "from sklearn.utils.class_weight import compute_class_weight\n",
    "from sklearn.metrics import (\n",
    "    accuracy_score,\n",
    "    precision_recall_fscore_support,\n",
    "    classification_report,\n",
    "    ConfusionMatrixDisplay\n",
    ")\n",
    "import collections\n",
    "\n",
    "# Set seaborn style\n",
    "sns.set(style=\"whitegrid\")"
   ],
   "id": "f1b08ec2bb523414",
   "outputs": [],
   "execution_count": 53
  },
  {
   "metadata": {
    "ExecuteTime": {
     "end_time": "2025-03-19T19:39:47.976937Z",
     "start_time": "2025-03-19T19:39:47.513557Z"
    }
   },
   "cell_type": "code",
   "source": [
    "# Load preprocessed datasets\n",
    "train_df = pd.read_csv(\"./processed/train_cleaned.csv\")\n",
    "dev_df = pd.read_csv(\"./processed/dev_cleaned.csv\")\n",
    "test_df = pd.read_csv(\"./processed/test_cleaned.csv\")\n",
    "\n",
    "# Display dataset structure\n",
    "print(\"Train Dataset Sample:\")\n",
    "display(train_df.head())\n",
    "\n",
    "print(\"\\nColumns in Train Dataset:\", train_df.columns.tolist())"
   ],
   "id": "522e84303f024993",
   "outputs": [
    {
     "name": "stdout",
     "output_type": "stream",
     "text": [
      "Train Dataset Sample:\n"
     ]
    },
    {
     "data": {
      "text/plain": [
       "  claim_id      date_published  \\\n",
       "0    15661      April 26, 2015   \n",
       "1     9893    October 18, 2011   \n",
       "2    11358  September 28, 2016   \n",
       "3    10166    November 8, 2011   \n",
       "4    11276  September 20, 2010   \n",
       "\n",
       "                                       fact_checkers  \\\n",
       "0                                      Katie Sanders   \n",
       "1                                                      \n",
       "2  Mary Chris Jaklevic,Steven J. Atlas, MD, MPH,K...   \n",
       "3                                                      \n",
       "4                                                      \n",
       "\n",
       "                                             sources    label  \\\n",
       "0  https://www.wsj.com/articles/clinton-foundatio...    false   \n",
       "1                                                     mixture   \n",
       "2  https://www.healthnewsreview.org/wp-content/up...  mixture   \n",
       "3  http://clinicaltrials.gov/ct2/results?term=can...     true   \n",
       "4                                                        true   \n",
       "\n",
       "                                      subjects  \\\n",
       "0  Foreign Policy, PunditFact, Newt Gingrich,    \n",
       "1               Screening,WebMD,women's health   \n",
       "2      Association/Society news release,Cancer   \n",
       "3                  Cancer,WebMD,women's health   \n",
       "4                                                \n",
       "\n",
       "                                       claim_cleaned  \\\n",
       "0  the money the clinton foundation took from fro...   \n",
       "1    annual mammograms may have more false positives   \n",
       "2  sbrt offers prostate cancer patients high canc...   \n",
       "3  study vaccine for breast ovarian cancer has po...   \n",
       "4  some appendicitis cases may not require ’emerg...   \n",
       "\n",
       "                                 explanation_cleaned  \\\n",
       "0  gingrich said the clinton foundation took mone...   \n",
       "1  this article reports on the results of a study...   \n",
       "2  this news release describes five year outcomes...   \n",
       "3  while the story does many things well the over...   \n",
       "4  we really don’t understand why only a handful ...   \n",
       "\n",
       "                                   main_text_cleaned  claim_length  \\\n",
       "0  hillary clinton is in the political crosshairs...            29   \n",
       "1  while the financial costs of screening mammogr...             7   \n",
       "2  the news release quotes lead researcher robert...            14   \n",
       "3  the story does discuss costs but the framing i...             8   \n",
       "4  although the story didn’t cite the cost of app...             8   \n",
       "\n",
       "   explanation_length  main_text_length  \n",
       "0                 140              1476  \n",
       "1                 250               334  \n",
       "2                 388               849  \n",
       "3                 148               615  \n",
       "4                 109               341  "
      ],
      "text/html": [
       "<div>\n",
       "<style scoped>\n",
       "    .dataframe tbody tr th:only-of-type {\n",
       "        vertical-align: middle;\n",
       "    }\n",
       "\n",
       "    .dataframe tbody tr th {\n",
       "        vertical-align: top;\n",
       "    }\n",
       "\n",
       "    .dataframe thead th {\n",
       "        text-align: right;\n",
       "    }\n",
       "</style>\n",
       "<table border=\"1\" class=\"dataframe\">\n",
       "  <thead>\n",
       "    <tr style=\"text-align: right;\">\n",
       "      <th></th>\n",
       "      <th>claim_id</th>\n",
       "      <th>date_published</th>\n",
       "      <th>fact_checkers</th>\n",
       "      <th>sources</th>\n",
       "      <th>label</th>\n",
       "      <th>subjects</th>\n",
       "      <th>claim_cleaned</th>\n",
       "      <th>explanation_cleaned</th>\n",
       "      <th>main_text_cleaned</th>\n",
       "      <th>claim_length</th>\n",
       "      <th>explanation_length</th>\n",
       "      <th>main_text_length</th>\n",
       "    </tr>\n",
       "  </thead>\n",
       "  <tbody>\n",
       "    <tr>\n",
       "      <th>0</th>\n",
       "      <td>15661</td>\n",
       "      <td>April 26, 2015</td>\n",
       "      <td>Katie Sanders</td>\n",
       "      <td>https://www.wsj.com/articles/clinton-foundatio...</td>\n",
       "      <td>false</td>\n",
       "      <td>Foreign Policy, PunditFact, Newt Gingrich,</td>\n",
       "      <td>the money the clinton foundation took from fro...</td>\n",
       "      <td>gingrich said the clinton foundation took mone...</td>\n",
       "      <td>hillary clinton is in the political crosshairs...</td>\n",
       "      <td>29</td>\n",
       "      <td>140</td>\n",
       "      <td>1476</td>\n",
       "    </tr>\n",
       "    <tr>\n",
       "      <th>1</th>\n",
       "      <td>9893</td>\n",
       "      <td>October 18, 2011</td>\n",
       "      <td></td>\n",
       "      <td></td>\n",
       "      <td>mixture</td>\n",
       "      <td>Screening,WebMD,women's health</td>\n",
       "      <td>annual mammograms may have more false positives</td>\n",
       "      <td>this article reports on the results of a study...</td>\n",
       "      <td>while the financial costs of screening mammogr...</td>\n",
       "      <td>7</td>\n",
       "      <td>250</td>\n",
       "      <td>334</td>\n",
       "    </tr>\n",
       "    <tr>\n",
       "      <th>2</th>\n",
       "      <td>11358</td>\n",
       "      <td>September 28, 2016</td>\n",
       "      <td>Mary Chris Jaklevic,Steven J. Atlas, MD, MPH,K...</td>\n",
       "      <td>https://www.healthnewsreview.org/wp-content/up...</td>\n",
       "      <td>mixture</td>\n",
       "      <td>Association/Society news release,Cancer</td>\n",
       "      <td>sbrt offers prostate cancer patients high canc...</td>\n",
       "      <td>this news release describes five year outcomes...</td>\n",
       "      <td>the news release quotes lead researcher robert...</td>\n",
       "      <td>14</td>\n",
       "      <td>388</td>\n",
       "      <td>849</td>\n",
       "    </tr>\n",
       "    <tr>\n",
       "      <th>3</th>\n",
       "      <td>10166</td>\n",
       "      <td>November 8, 2011</td>\n",
       "      <td></td>\n",
       "      <td>http://clinicaltrials.gov/ct2/results?term=can...</td>\n",
       "      <td>true</td>\n",
       "      <td>Cancer,WebMD,women's health</td>\n",
       "      <td>study vaccine for breast ovarian cancer has po...</td>\n",
       "      <td>while the story does many things well the over...</td>\n",
       "      <td>the story does discuss costs but the framing i...</td>\n",
       "      <td>8</td>\n",
       "      <td>148</td>\n",
       "      <td>615</td>\n",
       "    </tr>\n",
       "    <tr>\n",
       "      <th>4</th>\n",
       "      <td>11276</td>\n",
       "      <td>September 20, 2010</td>\n",
       "      <td></td>\n",
       "      <td></td>\n",
       "      <td>true</td>\n",
       "      <td></td>\n",
       "      <td>some appendicitis cases may not require ’emerg...</td>\n",
       "      <td>we really don’t understand why only a handful ...</td>\n",
       "      <td>although the story didn’t cite the cost of app...</td>\n",
       "      <td>8</td>\n",
       "      <td>109</td>\n",
       "      <td>341</td>\n",
       "    </tr>\n",
       "  </tbody>\n",
       "</table>\n",
       "</div>"
      ]
     },
     "metadata": {},
     "output_type": "display_data"
    },
    {
     "name": "stdout",
     "output_type": "stream",
     "text": [
      "\n",
      "Columns in Train Dataset: ['claim_id', 'date_published', 'fact_checkers', 'sources', 'label', 'subjects', 'claim_cleaned', 'explanation_cleaned', 'main_text_cleaned', 'claim_length', 'explanation_length', 'main_text_length']\n"
     ]
    }
   ],
   "execution_count": 54
  },
  {
   "metadata": {
    "ExecuteTime": {
     "end_time": "2025-03-19T19:39:53.628653Z",
     "start_time": "2025-03-19T19:39:53.581163Z"
    }
   },
   "cell_type": "code",
   "source": [
    "# Combine labels from all datasets before fitting the encoder\n",
    "all_labels = pd.concat([train_df[\"label\"], dev_df[\"label\"], test_df[\"label\"]]).unique()\n",
    "\n",
    "# Initialize and fit LabelEncoder on all unique labels\n",
    "label_encoder = LabelEncoder()\n",
    "label_encoder.fit(all_labels)  # Fit on all possible labels\n",
    "\n",
    "# Transform labels\n",
    "y_train = label_encoder.transform(train_df[\"label\"])\n",
    "y_dev = label_encoder.transform(dev_df[\"label\"])\n",
    "y_test = label_encoder.transform(test_df[\"label\"])\n",
    "\n",
    "# Define input (text) and output (labels)\n",
    "X_train = train_df[\"claim_cleaned\"]\n",
    "X_dev = dev_df[\"claim_cleaned\"]\n",
    "X_test = test_df[\"claim_cleaned\"]\n",
    "\n",
    "# Display label mapping\n",
    "print(\"Label Mapping:\", dict(zip(label_encoder.classes_, label_encoder.transform(label_encoder.classes_))))\n",
    "print(\"Unique Encoded Labels:\", np.unique(y_train))"
   ],
   "id": "61e7feffb27968b9",
   "outputs": [
    {
     "name": "stdout",
     "output_type": "stream",
     "text": [
      "Label Mapping: {'National, Candidate Biography, Donald Trump, ': np.int64(0), 'false': np.int64(1), 'mixture': np.int64(2), 'snopes': np.int64(3), 'true': np.int64(4), 'unproven': np.int64(5), nan: np.int64(6)}\n",
      "Unique Encoded Labels: [1 2 3 4 5 6]\n"
     ]
    }
   ],
   "execution_count": 55
  },
  {
   "metadata": {
    "ExecuteTime": {
     "end_time": "2025-03-19T19:40:05.814679Z",
     "start_time": "2025-03-19T19:40:05.639822Z"
    }
   },
   "cell_type": "code",
   "source": [
    "# Convert text into numerical features using TF-IDF\n",
    "vectorizer = TfidfVectorizer(max_features=5000, ngram_range=(1,2))  # Use unigrams and bigrams\n",
    "X_train_tfidf = vectorizer.fit_transform(X_train)\n",
    "X_dev_tfidf = vectorizer.transform(X_dev)\n",
    "X_test_tfidf = vectorizer.transform(X_test)\n",
    "\n",
    "print(f\"TF-IDF Vectorized Shape: {X_train_tfidf.shape}\")"
   ],
   "id": "e35fb22367add6b9",
   "outputs": [
    {
     "name": "stdout",
     "output_type": "stream",
     "text": [
      "TF-IDF Vectorized Shape: (9806, 5000)\n"
     ]
    }
   ],
   "execution_count": 56
  },
  {
   "metadata": {
    "ExecuteTime": {
     "end_time": "2025-03-19T19:46:07.831917Z",
     "start_time": "2025-03-19T19:46:07.618473Z"
    }
   },
   "cell_type": "code",
   "source": [
    "from sklearn.utils.class_weight import compute_class_weight\n",
    "\n",
    "# Ensure all unique labels are present\n",
    "unique_labels = np.unique(y_train)  # Get unique labels in training set\n",
    "\n",
    "# Compute class weights safely\n",
    "class_weights = compute_class_weight(\n",
    "    class_weight=\"balanced\",\n",
    "    classes=unique_labels,  # ✅ Only use present labels\n",
    "    y=y_train\n",
    ")\n",
    "\n",
    "# Convert class weights into dictionary format\n",
    "class_weight_dict = {label: weight for label, weight in zip(unique_labels, class_weights)}\n",
    "\n",
    "# Ensure data types are correct before training\n",
    "X_train_tfidf = X_train_tfidf.astype(np.float64)\n",
    "y_train = np.array(y_train, dtype=np.int32)\n",
    "\n",
    "# Initialize and train Logistic Regression model with class weights\n",
    "baseline_model = LogisticRegression(max_iter=1000, random_state=42, class_weight=class_weight_dict)\n",
    "baseline_model.fit(X_train_tfidf, y_train)\n",
    "\n",
    "print(\"Logistic Regression (Balanced) Model Training Complete!\")"
   ],
   "id": "8b3d1f2d9372a2d0",
   "outputs": [
    {
     "name": "stdout",
     "output_type": "stream",
     "text": [
      "Logistic Regression (Balanced) Model Training Complete!\n"
     ]
    }
   ],
   "execution_count": 65
  },
  {
   "metadata": {
    "ExecuteTime": {
     "end_time": "2025-03-19T19:46:09.142199Z",
     "start_time": "2025-03-19T19:46:09.135494Z"
    }
   },
   "cell_type": "code",
   "source": [
    "# Initialize and train a Naive Bayes classifier\n",
    "nb_model = MultinomialNB()\n",
    "nb_model.fit(X_train_tfidf, y_train)\n",
    "\n",
    "print(\"Naive Bayes Model Training Complete!\")"
   ],
   "id": "d3d12ecde7f9d933",
   "outputs": [
    {
     "name": "stdout",
     "output_type": "stream",
     "text": [
      "Naive Bayes Model Training Complete!\n"
     ]
    }
   ],
   "execution_count": 66
  },
  {
   "metadata": {
    "ExecuteTime": {
     "end_time": "2025-03-19T19:46:10.337387Z",
     "start_time": "2025-03-19T19:46:10.325519Z"
    }
   },
   "cell_type": "code",
   "source": [
    "# Ensure test data format before prediction\n",
    "X_test_tfidf = X_test_tfidf.astype(np.float64)\n",
    "\n",
    "# Predict using Logistic Regression\n",
    "y_pred_logreg = baseline_model.predict(X_test_tfidf)\n",
    "\n",
    "# Calculate performance metrics\n",
    "accuracy_logreg = accuracy_score(y_test, y_pred_logreg)\n",
    "precision_logreg, recall_logreg, f1_logreg, _ = precision_recall_fscore_support(y_test, y_pred_logreg, average=\"weighted\", zero_division=1)\n",
    "\n",
    "# Print classification report\n",
    "print(\"\\n🔹 Logistic Regression - Classification Report:\\n\", classification_report(y_test, y_pred_logreg, zero_division=1))\n",
    "\n",
    "# Display metrics\n",
    "print(f\"Logistic Regression Accuracy: {accuracy_logreg:.4f}\")\n",
    "print(f\"Precision: {precision_logreg:.4f}, Recall: {recall_logreg:.4f}, F1-Score: {f1_logreg:.4f}\")"
   ],
   "id": "2606be72a4f14219",
   "outputs": [
    {
     "name": "stdout",
     "output_type": "stream",
     "text": [
      "\n",
      "🔹 Logistic Regression - Classification Report:\n",
      "               precision    recall  f1-score   support\n",
      "\n",
      "           1       0.53      0.50      0.52       388\n",
      "           2       0.30      0.36      0.33       201\n",
      "           3       0.00      1.00      0.00         0\n",
      "           4       0.79      0.63      0.70       599\n",
      "           5       0.19      0.40      0.25        45\n",
      "           6       1.00      0.00      0.00         2\n",
      "\n",
      "    accuracy                           0.54      1235\n",
      "   macro avg       0.47      0.48      0.30      1235\n",
      "weighted avg       0.61      0.54      0.56      1235\n",
      "\n",
      "Logistic Regression Accuracy: 0.5368\n",
      "Precision: 0.6064, Recall: 0.5368, F1-Score: 0.5644\n"
     ]
    }
   ],
   "execution_count": 67
  },
  {
   "metadata": {
    "ExecuteTime": {
     "end_time": "2025-03-19T19:46:11.412621Z",
     "start_time": "2025-03-19T19:46:11.402076Z"
    }
   },
   "cell_type": "code",
   "source": [
    "# Predict using Naive Bayes\n",
    "y_pred_nb = nb_model.predict(X_test_tfidf)\n",
    "\n",
    "# Calculate performance metrics\n",
    "accuracy_nb = accuracy_score(y_test, y_pred_nb)\n",
    "precision_nb, recall_nb, f1_nb, _ = precision_recall_fscore_support(y_test, y_pred_nb, average=\"weighted\", zero_division=1)\n",
    "\n",
    "# Print classification report\n",
    "print(\"\\n🔹 Naive Bayes - Classification Report:\\n\", classification_report(y_test, y_pred_nb, zero_division=1))\n",
    "\n",
    "# Display metrics\n",
    "print(f\"Naive Bayes Accuracy: {accuracy_nb:.4f}\")\n",
    "print(f\"Precision: {precision_nb:.4f}, Recall: {recall_nb:.4f}, F1-Score: {f1_nb:.4f}\")"
   ],
   "id": "4af708a03d1ee341",
   "outputs": [
    {
     "name": "stdout",
     "output_type": "stream",
     "text": [
      "\n",
      "🔹 Naive Bayes - Classification Report:\n",
      "               precision    recall  f1-score   support\n",
      "\n",
      "           1       0.53      0.59      0.56       388\n",
      "           2       1.00      0.02      0.04       201\n",
      "           4       0.63      0.84      0.72       599\n",
      "           5       1.00      0.00      0.00        45\n",
      "           6       1.00      0.00      0.00         2\n",
      "\n",
      "    accuracy                           0.60      1235\n",
      "   macro avg       0.83      0.29      0.26      1235\n",
      "weighted avg       0.67      0.60      0.53      1235\n",
      "\n",
      "Naive Bayes Accuracy: 0.5960\n",
      "Precision: 0.6726, Recall: 0.5960, F1-Score: 0.5307\n"
     ]
    }
   ],
   "execution_count": 68
  },
  {
   "metadata": {
    "ExecuteTime": {
     "end_time": "2025-03-19T19:46:12.917446Z",
     "start_time": "2025-03-19T19:46:12.776347Z"
    }
   },
   "cell_type": "code",
   "source": [
    "# Create subplots for confusion matrices\n",
    "fig, axes = plt.subplots(1, 2, figsize=(12, 6))  # Create side-by-side plots\n",
    "\n",
    "# Logistic Regression Confusion Matrix\n",
    "ConfusionMatrixDisplay.from_estimator(\n",
    "    baseline_model, X_test_tfidf, y_test, cmap=\"Blues\", ax=axes[0]\n",
    ")\n",
    "axes[0].set_title(\"Logistic Regression - Confusion Matrix\")\n",
    "\n",
    "# Naive Bayes Confusion Matrix\n",
    "ConfusionMatrixDisplay.from_estimator(\n",
    "    nb_model, X_test_tfidf, y_test, cmap=\"Greens\", ax=axes[1]\n",
    ")\n",
    "axes[1].set_title(\"Naive Bayes - Confusion Matrix\")\n",
    "\n",
    "# Adjust layout for clarity\n",
    "plt.tight_layout()\n",
    "plt.show()"
   ],
   "id": "efb909745289d650",
   "outputs": [
    {
     "data": {
      "text/plain": [
       "<Figure size 1200x600 with 4 Axes>"
      ],
      "image/png": "[encoded data removed]"
     },
     "metadata": {},
     "output_type": "display_data"
    }
   ],
   "execution_count": 69
  },
  {
   "metadata": {},
   "cell_type": "code",
   "outputs": [],
   "execution_count": null,
   "source": "",
   "id": "413e5e1295d77975"
  }
 ],
 "metadata": {
  "kernelspec": {
   "display_name": "Python 3",
   "language": "python",
   "name": "python3"
  },
  "language_info": {
   "codemirror_mode": {
    "name": "ipython",
    "version": 2
   },
   "file_extension": ".py",
   "mimetype": "text/x-python",
   "name": "python",
   "nbconvert_exporter": "python",
   "pygments_lexer": "ipython2",
   "version": "2.7.6"
  }
 },
 "nbformat": 4,
 "nbformat_minor": 5
}
