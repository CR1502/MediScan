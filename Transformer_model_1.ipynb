{
 "cells": [
  {
   "cell_type": "code",
   "id": "initial_id",
   "metadata": {
    "collapsed": true,
    "ExecuteTime": {
     "end_time": "2025-03-19T20:30:26.874482Z",
     "start_time": "2025-03-19T20:30:26.870713Z"
    }
   },
   "source": [
    "import os\n",
    "import pandas as pd\n",
    "import torch\n",
    "import numpy as np\n",
    "from transformers import BertTokenizer, BertForSequenceClassification, get_scheduler\n",
    "from sklearn.preprocessing import LabelEncoder\n",
    "from torch.utils.data import DataLoader, Dataset\n",
    "from torch.optim import AdamW\n",
    "from sklearn.metrics import accuracy_score, precision_recall_fscore_support"
   ],
   "outputs": [],
   "execution_count": 45
  },
  {
   "metadata": {
    "ExecuteTime": {
     "end_time": "2025-03-19T20:30:27.497781Z",
     "start_time": "2025-03-19T20:30:26.994654Z"
    }
   },
   "cell_type": "code",
   "source": [
    "# Load preprocessed data\n",
    "train_df = pd.read_csv(\"processed/train_cleaned.csv\")\n",
    "dev_df = pd.read_csv(\"processed/dev_cleaned.csv\")\n",
    "test_df = pd.read_csv(\"processed/test_cleaned.csv\")\n",
    "\n",
    "# Initialize LabelEncoder and fit on TRAIN data only\n",
    "label_encoder = LabelEncoder()\n",
    "train_df[\"label_encoded\"] = label_encoder.fit_transform(train_df[\"label\"])\n",
    "\n",
    "# Ensure dev and test datasets only contain known labels\n",
    "valid_labels = set(train_df[\"label\"].unique())  # Known labels from training data\n",
    "\n",
    "# Remove rows with unseen labels in dev & test sets\n",
    "dev_df = dev_df[dev_df[\"label\"].isin(valid_labels)]\n",
    "test_df = test_df[test_df[\"label\"].isin(valid_labels)]\n",
    "\n",
    "# Encode dev and test labels (Now they should match training labels)\n",
    "dev_df[\"label_encoded\"] = label_encoder.transform(dev_df[\"label\"])\n",
    "test_df[\"label_encoded\"] = label_encoder.transform(test_df[\"label\"])\n",
    "\n",
    "# Save label mapping for decoding predictions later\n",
    "label_mapping = dict(zip(label_encoder.classes_, label_encoder.transform(label_encoder.classes_)))\n",
    "\n",
    "# Select text features (Using 'claim_cleaned')\n",
    "train_texts, train_labels = train_df[\"claim_cleaned\"].tolist(), train_df[\"label_encoded\"].tolist()\n",
    "dev_texts, dev_labels = dev_df[\"claim_cleaned\"].tolist(), dev_df[\"label_encoded\"].tolist()\n",
    "test_texts, test_labels = test_df[\"claim_cleaned\"].tolist(), test_df[\"label_encoded\"].tolist()\n",
    "\n",
    "print(f\"✅ Data Loaded: {len(train_texts)} train, {len(dev_texts)} dev, {len(test_texts)} test samples.\")"
   ],
   "id": "efa24fd91369e580",
   "outputs": [
    {
     "name": "stdout",
     "output_type": "stream",
     "text": [
      "✅ Data Loaded: 9806 train, 1216 dev, 1235 test samples.\n"
     ]
    }
   ],
   "execution_count": 46
  },
  {
   "metadata": {
    "ExecuteTime": {
     "end_time": "2025-03-19T20:30:29.324424Z",
     "start_time": "2025-03-19T20:30:27.505592Z"
    }
   },
   "cell_type": "code",
   "source": [
    "# Load BERT Tokenizer\n",
    "tokenizer = BertTokenizer.from_pretrained(\"bert-base-uncased\")\n",
    "\n",
    "# Tokenization function\n",
    "def tokenize_data(texts, labels, tokenizer, max_len=256):\n",
    "    inputs = tokenizer(\n",
    "        texts, padding=True, truncation=True, max_length=max_len, return_tensors=\"pt\"\n",
    "    )\n",
    "    return {\n",
    "        \"input_ids\": inputs[\"input_ids\"],\n",
    "        \"attention_mask\": inputs[\"attention_mask\"],\n",
    "        \"labels\": torch.tensor(labels),\n",
    "    }\n",
    "\n",
    "# Apply tokenization\n",
    "train_data = tokenize_data(train_df[\"claim_cleaned\"].tolist(), train_df[\"label_encoded\"].tolist(), tokenizer)\n",
    "dev_data = tokenize_data(dev_df[\"claim_cleaned\"].tolist(), dev_df[\"label_encoded\"].tolist(), tokenizer)\n",
    "test_data = tokenize_data(test_df[\"claim_cleaned\"].tolist(), test_df[\"label_encoded\"].tolist(), tokenizer)"
   ],
   "id": "54801c04bdbdbbc1",
   "outputs": [],
   "execution_count": 47
  },
  {
   "metadata": {
    "ExecuteTime": {
     "end_time": "2025-03-19T20:30:29.429066Z",
     "start_time": "2025-03-19T20:30:29.425952Z"
    }
   },
   "cell_type": "code",
   "source": [
    "# Custom Dataset Class\n",
    "class PubHealthDataset(Dataset):\n",
    "    def __init__(self, data):\n",
    "        self.data = data\n",
    "\n",
    "    def __len__(self):\n",
    "        return len(self.data[\"input_ids\"])\n",
    "\n",
    "    def __getitem__(self, idx):\n",
    "        return {\n",
    "            \"input_ids\": self.data[\"input_ids\"][idx],\n",
    "            \"attention_mask\": self.data[\"attention_mask\"][idx],\n",
    "            \"labels\": self.data[\"labels\"][idx],\n",
    "        }\n",
    "\n",
    "# Create Dataset Objects\n",
    "train_dataset = PubHealthDataset(train_data)\n",
    "dev_dataset = PubHealthDataset(dev_data)\n",
    "test_dataset = PubHealthDataset(test_data)\n",
    "\n",
    "# Define Batch Size\n",
    "BATCH_SIZE = 8\n",
    "\n",
    "# Create Dataloaders\n",
    "train_loader = DataLoader(train_dataset, batch_size=BATCH_SIZE, shuffle=True)\n",
    "dev_loader = DataLoader(dev_dataset, batch_size=BATCH_SIZE)\n",
    "test_loader = DataLoader(test_dataset, batch_size=BATCH_SIZE)\n",
    "\n",
    "print(\"✅ Dataloaders Created!\")"
   ],
   "id": "68073be5a9245c74",
   "outputs": [
    {
     "name": "stdout",
     "output_type": "stream",
     "text": [
      "✅ Dataloaders Created!\n"
     ]
    }
   ],
   "execution_count": 48
  },
  {
   "metadata": {
    "ExecuteTime": {
     "end_time": "2025-03-19T20:30:30.836180Z",
     "start_time": "2025-03-19T20:30:29.532045Z"
    }
   },
   "cell_type": "code",
   "source": [
    "# Load BERT Model\n",
    "model = BertForSequenceClassification.from_pretrained(\"bert-base-uncased\", num_labels=len(label_mapping))\n",
    "\n",
    "device = torch.device(\"mps\" if torch.backends.mps.is_available() else \"cuda\" if torch.cuda.is_available() else \"cpu\")\n",
    "model.to(device)\n",
    "\n",
    "print(f\"✅ BERT Model Loaded on {device}!\")"
   ],
   "id": "f8bee07737a775bc",
   "outputs": [
    {
     "name": "stderr",
     "output_type": "stream",
     "text": [
      "Some weights of BertForSequenceClassification were not initialized from the model checkpoint at bert-base-uncased and are newly initialized: ['classifier.bias', 'classifier.weight']\n",
      "You should probably TRAIN this model on a down-stream task to be able to use it for predictions and inference.\n"
     ]
    },
    {
     "name": "stdout",
     "output_type": "stream",
     "text": [
      "✅ BERT Model Loaded on mps!\n"
     ]
    }
   ],
   "execution_count": 49
  },
  {
   "metadata": {
    "ExecuteTime": {
     "end_time": "2025-03-19T20:30:30.944301Z",
     "start_time": "2025-03-19T20:30:30.941631Z"
    }
   },
   "cell_type": "code",
   "source": [
    "from transformers import get_scheduler\n",
    "from torch.optim import AdamW\n",
    "\n",
    "# Set MPS device (for Apple Silicon)\n",
    "device = torch.device(\"mps\" if torch.backends.mps.is_available() else \"cpu\")\n",
    "\n",
    "# Define optimizer & scheduler\n",
    "optimizer = AdamW(model.parameters(), lr=1e-5, weight_decay=1e-2)\n",
    "\n",
    "# Use a dynamic learning rate scheduler\n",
    "num_training_steps = len(train_loader) * 5  # 5 epochs\n",
    "scheduler = get_scheduler(\n",
    "    \"linear\", optimizer=optimizer, num_warmup_steps=0, num_training_steps=num_training_steps\n",
    ")\n",
    "\n",
    "# Loss function\n",
    "loss_fn = torch.nn.CrossEntropyLoss()"
   ],
   "id": "1fc00ac7df59ad1b",
   "outputs": [],
   "execution_count": 50
  },
  {
   "metadata": {
    "ExecuteTime": {
     "end_time": "2025-03-19T20:51:50.551766Z",
     "start_time": "2025-03-19T20:30:31.150609Z"
    }
   },
   "cell_type": "code",
   "source": [
    "# Updated training function\n",
    "def train_epoch(model, data_loader, loss_fn, optimizer, device, scheduler):\n",
    "    model.train()\n",
    "    total_loss, correct_predictions = 0, 0\n",
    "\n",
    "    for batch in data_loader:\n",
    "        optimizer.zero_grad()\n",
    "\n",
    "        input_ids, attention_mask, labels = (\n",
    "            batch[\"input_ids\"].to(device),\n",
    "            batch[\"attention_mask\"].to(device),\n",
    "            batch[\"labels\"].to(device)\n",
    "        )\n",
    "\n",
    "        outputs = model(input_ids, attention_mask=attention_mask)\n",
    "        loss = loss_fn(outputs.logits, labels)\n",
    "\n",
    "        loss.backward()\n",
    "        optimizer.step()\n",
    "        scheduler.step()\n",
    "\n",
    "        total_loss += loss.item()\n",
    "        correct_predictions += (outputs.logits.argmax(dim=1) == labels).sum().item()\n",
    "\n",
    "    return correct_predictions / len(data_loader.dataset), total_loss / len(data_loader)\n",
    "\n",
    "# Train BERT\n",
    "EPOCHS = 5\n",
    "for epoch in range(EPOCHS):\n",
    "    print(f\"\\n===== Epoch {epoch + 1}/{EPOCHS} =====\")\n",
    "    train_acc, train_loss = train_epoch(model, train_loader, loss_fn, optimizer, device, scheduler)\n",
    "    print(f\"Train Loss: {train_loss:.4f} | Train Accuracy: {train_acc:.4f}\")\n",
    "\n",
    "print(\"✅ Improved BERT Model Training Completed!\")"
   ],
   "id": "177d38ae9610acba",
   "outputs": [
    {
     "name": "stdout",
     "output_type": "stream",
     "text": [
      "\n",
      "===== Epoch 1/5 =====\n",
      "Train Loss: 0.9281 | Train Accuracy: 0.6102\n",
      "\n",
      "===== Epoch 2/5 =====\n",
      "Train Loss: 0.7608 | Train Accuracy: 0.6728\n",
      "\n",
      "===== Epoch 3/5 =====\n",
      "Train Loss: 0.6342 | Train Accuracy: 0.7286\n",
      "\n",
      "===== Epoch 4/5 =====\n",
      "Train Loss: 0.5024 | Train Accuracy: 0.7905\n",
      "\n",
      "===== Epoch 5/5 =====\n",
      "Train Loss: 0.4049 | Train Accuracy: 0.8440\n",
      "✅ Improved BERT Model Training Completed!\n"
     ]
    }
   ],
   "execution_count": 51
  },
  {
   "metadata": {
    "ExecuteTime": {
     "end_time": "2025-03-19T21:12:45.281362Z",
     "start_time": "2025-03-19T21:12:38.243699Z"
    }
   },
   "cell_type": "code",
   "source": [
    "from sklearn.metrics import accuracy_score, precision_recall_fscore_support\n",
    "\n",
    "# Evaluation function\n",
    "def evaluate_model(model, data_loader, device):\n",
    "    model.eval()\n",
    "    predictions, true_labels = [], []\n",
    "\n",
    "    with torch.no_grad():\n",
    "        for batch in data_loader:\n",
    "            input_ids = batch[\"input_ids\"].to(device)\n",
    "            attention_mask = batch[\"attention_mask\"].to(device)\n",
    "            labels = batch[\"labels\"].to(device)\n",
    "\n",
    "            outputs = model(input_ids, attention_mask=attention_mask)\n",
    "            logits = outputs.logits\n",
    "            preds = torch.argmax(logits, dim=1)\n",
    "\n",
    "            predictions.extend(preds.cpu().numpy())\n",
    "            true_labels.extend(labels.cpu().numpy())\n",
    "\n",
    "    return predictions, true_labels\n",
    "\n",
    "# Run Evaluation\n",
    "y_pred, y_true = evaluate_model(model, test_loader, device)\n",
    "\n",
    "# Compute Metrics (Fix: zero_division=1)\n",
    "accuracy = accuracy_score(y_true, y_pred)\n",
    "precision, recall, f1, _ = precision_recall_fscore_support(y_true, y_pred, average=\"weighted\", zero_division=1)\n",
    "\n",
    "# Print Results\n",
    "print(f\"✅ Model Accuracy: {accuracy:.4f}\")\n",
    "print(f\"✅ Precision: {precision:.4f}, Recall: {recall:.4f}, F1-Score: {f1:.4f}\")"
   ],
   "id": "328c0a69f8dba6da",
   "outputs": [
    {
     "name": "stdout",
     "output_type": "stream",
     "text": [
      "✅ Model Accuracy: 0.6421\n",
      "✅ Precision: 0.6399, Recall: 0.6421, F1-Score: 0.6338\n"
     ]
    }
   ],
   "execution_count": 53
  },
  {
   "metadata": {
    "ExecuteTime": {
     "end_time": "2025-03-19T21:14:56.010751Z",
     "start_time": "2025-03-19T21:14:55.926945Z"
    }
   },
   "cell_type": "code",
   "source": [
    "import seaborn as sns\n",
    "import matplotlib.pyplot as plt\n",
    "from sklearn.metrics import confusion_matrix\n",
    "\n",
    "# Compute Confusion Matrix\n",
    "cm = confusion_matrix(y_true, y_pred)\n",
    "\n",
    "# Plot Confusion Matrix\n",
    "plt.figure(figsize=(8, 6))\n",
    "sns.heatmap(cm, annot=True, fmt=\"d\", cmap=\"Blues\", xticklabels=label_mapping.keys(), yticklabels=label_mapping.keys())\n",
    "\n",
    "plt.xlabel(\"Predicted Label\")\n",
    "plt.ylabel(\"True Label\")\n",
    "plt.title(\"Confusion Matrix - BERT Model\")\n",
    "plt.show()"
   ],
   "id": "7c1df92b9491dcd6",
   "outputs": [
    {
     "data": {
      "text/plain": [
       "<Figure size 800x600 with 2 Axes>"
      ],
      "image/png": "[encoded data removed]"
     },
     "metadata": {},
     "output_type": "display_data"
    }
   ],
   "execution_count": 55
  },
  {
   "metadata": {},
   "cell_type": "code",
   "outputs": [],
   "execution_count": null,
   "source": "",
   "id": "59e9d4086006e50"
  }
 ],
 "metadata": {
  "kernelspec": {
   "display_name": "Python 3",
   "language": "python",
   "name": "python3"
  },
  "language_info": {
   "codemirror_mode": {
    "name": "ipython",
    "version": 2
   },
   "file_extension": ".py",
   "mimetype": "text/x-python",
   "name": "python",
   "nbconvert_exporter": "python",
   "pygments_lexer": "ipython2",
   "version": "2.7.6"
  }
 },
 "nbformat": 4,
 "nbformat_minor": 5
}
